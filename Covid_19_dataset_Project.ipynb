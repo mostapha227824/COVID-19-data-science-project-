{
  "nbformat": 4,
  "nbformat_minor": 0,
  "metadata": {
    "colab": {
      "provenance": []
    },
    "kernelspec": {
      "name": "python3",
      "display_name": "Python 3"
    },
    "language_info": {
      "name": "python"
    }
  },
  "cells": [
    {
      "cell_type": "markdown",
      "source": [
        "# **Data analysis and Machine Learning for COVID-19**\n",
        "\n",
        "**My name is: Mostapha Abdulaziz Abdullah**\n",
        "\n",
        "**At The British Univeristy In Egypt**\n",
        "\n",
        "In this notebook i'll make analyses and apply machine learning algorithms using different COVID-19 datasets. They comprise country specific data, daily new cases, and breakups of various regions showing COVID-19 cases around the world. My objective is to analyze the data, clean it, and then use different machine learning classifications to analyze data on the pandemic’s spread, effects, and progression over time.\n",
        "\n",
        "**Datasets:**\n",
        "\n",
        "1. **country_wise_latest.csv:** This includes the number of cases, death, and recoveries which are updated by country or region.\n",
        "\n",
        "2. **covid_19_clean_complete.csv:** Provides the number of confirmed cases, active, and recovered cases on a daily basis on a worldwide basis, plus geolocation and WHO region.\n",
        "\n",
        "3. **day_wise.csv:** Confirmed cases, deaths, recoveries etc., on a daily basis for all the countries of the world and the number of countries affected.\n",
        "\n",
        "4. **full_grouped.csv:** An online resource with COVID-19 cases and statistics: total confirmed cases, deaths, recoveries, and by WHO region country/region on some dates.\n",
        "\n",
        "5. **usa_county_wise.csv:** Daily updates with COVID-19 stats ofUnites States county by county confirming new cases or deaths.\n",
        "\n",
        "6. **worldometer_data.csv**: COVID-19 total cases, deaths, recoveries and testing data by country/region worldwide.\n",
        "\n",
        "- In COVID-19 data analysis, data cleaning and exploration will be conducted, as well as data visualization and machine learning models from COVID-19 cases to understand the increased rate of deaths and incidence."
      ],
      "metadata": {
        "id": "k6tJ5Oje0GlG"
      }
    },
    {
      "cell_type": "markdown",
      "source": [
        "\n",
        "\n",
        "---\n",
        "\n"
      ],
      "metadata": {
        "id": "SoUrtFljy9vL"
      }
    },
    {
      "cell_type": "markdown",
      "source": [
        "# **Importations**"
      ],
      "metadata": {
        "id": "vx7vYv8_zDJz"
      }
    },
    {
      "cell_type": "code",
      "source": [
        "import pandas as pd\n",
        "import seaborn as sns\n",
        "import matplotlib.pyplot as plt\n",
        "from sklearn.impute import KNNImputer\n",
        "from sklearn.linear_model import LinearRegression\n",
        "from sklearn.model_selection import train_test_split\n",
        "from sklearn.preprocessing import StandardScaler\n",
        "from sklearn.preprocessing import LabelEncoder\n",
        "from sklearn.metrics import mean_squared_error, r2_score\n",
        "from sklearn.preprocessing import OneHotEncoder"
      ],
      "metadata": {
        "id": "JFftMBm8zCMC"
      },
      "execution_count": 1,
      "outputs": []
    },
    {
      "cell_type": "markdown",
      "source": [
        "# **Loading datasets**"
      ],
      "metadata": {
        "id": "MZBquLgjy_GK"
      }
    },
    {
      "cell_type": "code",
      "execution_count": 2,
      "metadata": {
        "id": "aVcqI0tDK_GC"
      },
      "outputs": [],
      "source": [
        "country_wise_latest = pd.read_csv('/content/country_wise_latest.csv')\n",
        "covid_19_clean_complete = pd.read_csv('/content/covid_19_clean_complete.csv')\n",
        "day_wise = pd.read_csv('/content/day_wise.csv')\n",
        "full_grouped = pd.read_csv('/content/full_grouped.csv')\n",
        "usa_county_wise = pd.read_csv('/content/usa_county_wise.csv')\n",
        "worldometer_data = pd.read_csv('/content/worldometer_data.csv')"
      ]
    },
    {
      "cell_type": "markdown",
      "source": [
        "\n",
        "\n",
        "---\n",
        "\n"
      ],
      "metadata": {
        "id": "yLb5jZAJ1Teg"
      }
    },
    {
      "cell_type": "markdown",
      "source": [
        "#1. **Preprocessing**"
      ],
      "metadata": {
        "id": "fuhcuqAT1UPM"
      }
    },
    {
      "cell_type": "markdown",
      "source": [
        "# **Check for missing values**"
      ],
      "metadata": {
        "id": "w9oBPK8IxQvK"
      }
    },
    {
      "cell_type": "code",
      "source": [
        "print(\"missing values in country_wise_latest:\")\n",
        "print(country_wise_latest.isnull().sum(), \"\\n\")\n",
        "\n",
        "print(\"missing values in covid_19_clean_complete:\")\n",
        "print(covid_19_clean_complete.isnull().sum(), \"\\n\")\n",
        "\n",
        "print(\"missing values in day_wise:\")\n",
        "print(day_wise.isnull().sum(), \"\\n\")\n",
        "\n",
        "print(\"missing values in full_grouped:\")\n",
        "print(full_grouped.isnull().sum(), \"\\n\")\n",
        "\n",
        "print(\"missing values in usa_county_wise:\")\n",
        "print(usa_county_wise.isnull().sum(), \"\\n\")\n",
        "\n",
        "print(\"missing values in worldometer_data:\")\n",
        "print(worldometer_data.isnull().sum(), \"\\n\")"
      ],
      "metadata": {
        "colab": {
          "base_uri": "https://localhost:8080/"
        },
        "id": "CZmc8CHD06BE",
        "outputId": "6c431688-cef1-40c9-a307-5d844a07143b"
      },
      "execution_count": 3,
      "outputs": [
        {
          "output_type": "stream",
          "name": "stdout",
          "text": [
            "missing values in country_wise_latest:\n",
            "Country/Region            0\n",
            "Confirmed                 0\n",
            "Deaths                    0\n",
            "Recovered                 0\n",
            "Active                    0\n",
            "New cases                 0\n",
            "New deaths                0\n",
            "New recovered             0\n",
            "Deaths / 100 Cases        0\n",
            "Recovered / 100 Cases     0\n",
            "Deaths / 100 Recovered    0\n",
            "Confirmed last week       0\n",
            "1 week change             0\n",
            "1 week % increase         0\n",
            "WHO Region                0\n",
            "dtype: int64 \n",
            "\n",
            "missing values in covid_19_clean_complete:\n",
            "Province/State    34404\n",
            "Country/Region        0\n",
            "Lat                   0\n",
            "Long                  0\n",
            "Date                  0\n",
            "Confirmed             0\n",
            "Deaths                0\n",
            "Recovered             0\n",
            "Active                0\n",
            "WHO Region            0\n",
            "dtype: int64 \n",
            "\n",
            "missing values in day_wise:\n",
            "Date                      0\n",
            "Confirmed                 0\n",
            "Deaths                    0\n",
            "Recovered                 0\n",
            "Active                    0\n",
            "New cases                 0\n",
            "New deaths                0\n",
            "New recovered             0\n",
            "Deaths / 100 Cases        0\n",
            "Recovered / 100 Cases     0\n",
            "Deaths / 100 Recovered    0\n",
            "No. of countries          0\n",
            "dtype: int64 \n",
            "\n",
            "missing values in full_grouped:\n",
            "Date              0\n",
            "Country/Region    0\n",
            "Confirmed         0\n",
            "Deaths            0\n",
            "Recovered         0\n",
            "Active            0\n",
            "New cases         0\n",
            "New deaths        0\n",
            "New recovered     0\n",
            "WHO Region        0\n",
            "dtype: int64 \n",
            "\n",
            "missing values in usa_county_wise:\n",
            "UID                  0\n",
            "iso2                 0\n",
            "iso3                 0\n",
            "code3                0\n",
            "FIPS              1880\n",
            "Admin2            1128\n",
            "Province_State       0\n",
            "Country_Region       0\n",
            "Lat                  0\n",
            "Long_                0\n",
            "Combined_Key         0\n",
            "Date                 0\n",
            "Confirmed            0\n",
            "Deaths               0\n",
            "dtype: int64 \n",
            "\n",
            "missing values in worldometer_data:\n",
            "Country/Region        0\n",
            "Continent             1\n",
            "Population            1\n",
            "TotalCases            0\n",
            "NewCases            205\n",
            "TotalDeaths          21\n",
            "NewDeaths           206\n",
            "TotalRecovered        4\n",
            "NewRecovered        206\n",
            "ActiveCases           4\n",
            "Serious,Critical     87\n",
            "Tot Cases/1M pop      1\n",
            "Deaths/1M pop        22\n",
            "TotalTests           18\n",
            "Tests/1M pop         18\n",
            "WHO Region           25\n",
            "dtype: int64 \n",
            "\n"
          ]
        }
      ]
    },
    {
      "cell_type": "markdown",
      "source": [
        "# Data Cleaning and Imputation Process"
      ],
      "metadata": {
        "id": "QKFq87pF2Nqb"
      }
    },
    {
      "cell_type": "markdown",
      "source": [
        "This section of the notebook performs data preprocessing and missing value imputation on three COVID-19 datasets: `covid_19_clean_complete`, `usa_county_wise`, and `worldometer_data`. The goal is to handle missing values through different imputation strategies, including the use of KNN imputation, forward filling, and replacing with the mode or median.\n",
        "\n",
        "### 1. `covid_19_clean_complete`:\n",
        "- **Province/State**: Missing values are imputed with the mode of each `Country/Region`.\n",
        "- **Confirmed, Deaths, Recovered, Active**: Missing values are imputed using KNN imputation (with 5 neighbors).\n",
        "- **WHO Region**: Missing values are forward-filled based on `Country/Region`.\n",
        "\n",
        "### 2. `usa_county_wise`:\n",
        "- **Admin2**: Missing values are imputed with the mode of each `Province_State`.\n",
        "- **FIPS**: Rows with missing `FIPS` values are dropped, as they are critical for identification.\n",
        "\n",
        "### 3. `worldometer_data`:\n",
        "- **Label Encoding**: Categorical columns `Country/Region` and `WHO Region` are encoded using `LabelEncoder`.\n",
        "- **Continent, Population**: Missing values are imputed using KNN imputation (based on encoded values of `Country/Region` and `WHO Region`).\n",
        "- **NewCases, NewDeaths, TotalRecovered**: Missing values are imputed using KNN imputation.\n",
        "- **Serious,Critical**: Missing values are filled with the median for each `Country/Region`.\n",
        "- **TotalDeaths**: Missing values are forward-filled.\n",
        "- **ActiveCases**: Missing values are computed as the difference between `TotalCases`, `TotalDeaths`, and `TotalRecovered`.\n",
        "- **NewRecovered, Serious,Critical, WHO Region**: Rows with missing values in these columns are dropped.\n",
        "- **Tot Cases/1M pop, Deaths/1M pop**: Missing values are imputed using KNN imputation.\n",
        "- **TotalTests, Tests/1M pop**: Missing values are forward-filled.\n"
      ],
      "metadata": {
        "id": "sA3CgjIP3DVZ"
      }
    },
    {
      "cell_type": "code",
      "source": [
        "# 1. covid_19_clean_complete\n",
        "\n",
        "covid_19_clean_complete['Province/State'] = covid_19_clean_complete.groupby('Country/Region')['Province/State'].transform(lambda x: x.fillna(x.mode()[0] if not x.mode().empty else 'Unknown'))\n",
        "imputer = KNNImputer(n_neighbors=5)\n",
        "covid_19_clean_complete[['Confirmed', 'Deaths', 'Recovered', 'Active']] = imputer.fit_transform(covid_19_clean_complete[['Confirmed', 'Deaths', 'Recovered', 'Active']])\n",
        "covid_19_clean_complete['WHO Region'] = covid_19_clean_complete.groupby('Country/Region')['WHO Region'].transform(lambda x: x.fillna(method='ffill'))\n",
        "\n",
        "# 2. usa_county_wise\n",
        "\n",
        "usa_county_wise['Admin2'] = usa_county_wise.groupby('Province_State')['Admin2'].transform(lambda x: x.fillna(x.mode()[0] if not x.mode().empty else 'Unknown'))\n",
        "usa_county_wise.dropna(subset=['FIPS'], inplace=True)\n",
        "\n",
        "# 3. worldometer_data\n",
        "label_encoder_country = LabelEncoder()\n",
        "label_encoder_region = LabelEncoder()\n",
        "\n",
        "worldometer_data['Country/Region_encoded'] = label_encoder_country.fit_transform(worldometer_data['Country/Region'].astype(str))\n",
        "worldometer_data['WHO Region_encoded'] = label_encoder_region.fit_transform(worldometer_data['WHO Region'].astype(str))\n",
        "\n",
        "continent_columns = ['Country/Region_encoded', 'WHO Region_encoded']\n",
        "imputer = KNNImputer(n_neighbors=5)\n",
        "\n",
        "worldometer_data['Continent'] = imputer.fit_transform(worldometer_data[continent_columns])[:, 0]\n",
        "worldometer_data['Population'] = imputer.fit_transform(worldometer_data[['Country/Region_encoded', 'Continent']])[:, 0]\n",
        "worldometer_data[['NewCases', 'NewDeaths', 'TotalRecovered']] = imputer.fit_transform(worldometer_data[['NewCases', 'NewDeaths', 'TotalRecovered']])\n",
        "worldometer_data['Serious,Critical'] = worldometer_data.groupby('Country/Region')['Serious,Critical'].transform(lambda x: x.fillna(x.median() if not x.median() is None else 0))\n",
        "worldometer_data['TotalDeaths'] = worldometer_data['TotalDeaths'].fillna(method='ffill')\n",
        "worldometer_data['Continent'] = label_encoder_country.inverse_transform(worldometer_data['Continent'].astype(int))\n",
        "worldometer_data['ActiveCases'] = worldometer_data['ActiveCases'].fillna(worldometer_data['TotalCases'] - worldometer_data['TotalDeaths'] - worldometer_data['TotalRecovered'])\n",
        "worldometer_data = worldometer_data.dropna(subset=['NewRecovered', 'Serious,Critical', 'WHO Region'])\n",
        "worldometer_data[['Tot Cases/1M pop', 'Deaths/1M pop']] = imputer.fit_transform(worldometer_data[['Tot Cases/1M pop', 'Deaths/1M pop']])\n",
        "worldometer_data['TotalTests'] = worldometer_data['TotalTests'].fillna(method='ffill')\n",
        "worldometer_data['Tests/1M pop'] = worldometer_data['Tests/1M pop'].fillna(method='ffill')\n",
        "\n",
        "print(\"covid_19_clean_complete missing values after imputation: \\n\", covid_19_clean_complete.isnull().sum())\n",
        "print(\"usa_county_wise missing values after imputation: \\n\", usa_county_wise.isnull().sum())\n",
        "print(\"worldometer_data missing values after imputation: \\n\", worldometer_data.isnull().sum())"
      ],
      "metadata": {
        "colab": {
          "base_uri": "https://localhost:8080/"
        },
        "id": "ffrLrecn2N8Z",
        "outputId": "5725e35d-c742-46d2-804c-3dd84271bacf"
      },
      "execution_count": 4,
      "outputs": [
        {
          "output_type": "stream",
          "name": "stderr",
          "text": [
            "<ipython-input-4-3a9ea4f7e2f8>:6: FutureWarning: Series.fillna with 'method' is deprecated and will raise in a future version. Use obj.ffill() or obj.bfill() instead.\n",
            "  covid_19_clean_complete['WHO Region'] = covid_19_clean_complete.groupby('Country/Region')['WHO Region'].transform(lambda x: x.fillna(method='ffill'))\n",
            "<ipython-input-4-3a9ea4f7e2f8>:27: FutureWarning: Series.fillna with 'method' is deprecated and will raise in a future version. Use obj.ffill() or obj.bfill() instead.\n",
            "  worldometer_data['TotalDeaths'] = worldometer_data['TotalDeaths'].fillna(method='ffill')\n",
            "<ipython-input-4-3a9ea4f7e2f8>:31: SettingWithCopyWarning: \n",
            "A value is trying to be set on a copy of a slice from a DataFrame.\n",
            "Try using .loc[row_indexer,col_indexer] = value instead\n",
            "\n",
            "See the caveats in the documentation: https://pandas.pydata.org/pandas-docs/stable/user_guide/indexing.html#returning-a-view-versus-a-copy\n",
            "  worldometer_data[['Tot Cases/1M pop', 'Deaths/1M pop']] = imputer.fit_transform(worldometer_data[['Tot Cases/1M pop', 'Deaths/1M pop']])\n",
            "<ipython-input-4-3a9ea4f7e2f8>:32: FutureWarning: Series.fillna with 'method' is deprecated and will raise in a future version. Use obj.ffill() or obj.bfill() instead.\n",
            "  worldometer_data['TotalTests'] = worldometer_data['TotalTests'].fillna(method='ffill')\n",
            "<ipython-input-4-3a9ea4f7e2f8>:32: SettingWithCopyWarning: \n",
            "A value is trying to be set on a copy of a slice from a DataFrame.\n",
            "Try using .loc[row_indexer,col_indexer] = value instead\n",
            "\n",
            "See the caveats in the documentation: https://pandas.pydata.org/pandas-docs/stable/user_guide/indexing.html#returning-a-view-versus-a-copy\n",
            "  worldometer_data['TotalTests'] = worldometer_data['TotalTests'].fillna(method='ffill')\n",
            "<ipython-input-4-3a9ea4f7e2f8>:33: FutureWarning: Series.fillna with 'method' is deprecated and will raise in a future version. Use obj.ffill() or obj.bfill() instead.\n",
            "  worldometer_data['Tests/1M pop'] = worldometer_data['Tests/1M pop'].fillna(method='ffill')\n",
            "<ipython-input-4-3a9ea4f7e2f8>:33: SettingWithCopyWarning: \n",
            "A value is trying to be set on a copy of a slice from a DataFrame.\n",
            "Try using .loc[row_indexer,col_indexer] = value instead\n",
            "\n",
            "See the caveats in the documentation: https://pandas.pydata.org/pandas-docs/stable/user_guide/indexing.html#returning-a-view-versus-a-copy\n",
            "  worldometer_data['Tests/1M pop'] = worldometer_data['Tests/1M pop'].fillna(method='ffill')\n"
          ]
        },
        {
          "output_type": "stream",
          "name": "stdout",
          "text": [
            "covid_19_clean_complete missing values after imputation: \n",
            " Province/State    0\n",
            "Country/Region    0\n",
            "Lat               0\n",
            "Long              0\n",
            "Date              0\n",
            "Confirmed         0\n",
            "Deaths            0\n",
            "Recovered         0\n",
            "Active            0\n",
            "WHO Region        0\n",
            "dtype: int64\n",
            "usa_county_wise missing values after imputation: \n",
            " UID               0\n",
            "iso2              0\n",
            "iso3              0\n",
            "code3             0\n",
            "FIPS              0\n",
            "Admin2            0\n",
            "Province_State    0\n",
            "Country_Region    0\n",
            "Lat               0\n",
            "Long_             0\n",
            "Combined_Key      0\n",
            "Date              0\n",
            "Confirmed         0\n",
            "Deaths            0\n",
            "dtype: int64\n",
            "worldometer_data missing values after imputation: \n",
            " Country/Region            0\n",
            "Continent                 0\n",
            "Population                0\n",
            "TotalCases                0\n",
            "NewCases                  0\n",
            "TotalDeaths               0\n",
            "NewDeaths                 0\n",
            "TotalRecovered            0\n",
            "NewRecovered              0\n",
            "ActiveCases               0\n",
            "Serious,Critical          0\n",
            "Tot Cases/1M pop          0\n",
            "Deaths/1M pop             0\n",
            "TotalTests                0\n",
            "Tests/1M pop              0\n",
            "WHO Region                0\n",
            "Country/Region_encoded    0\n",
            "WHO Region_encoded        0\n",
            "dtype: int64\n"
          ]
        }
      ]
    },
    {
      "cell_type": "markdown",
      "source": [
        "# **Understanding the columns and data types**"
      ],
      "metadata": {
        "id": "e7AGr7Ot1GBl"
      }
    },
    {
      "cell_type": "code",
      "source": [
        "print(\"data types in country_wise_latest:\")\n",
        "print(country_wise_latest.dtypes, \"\\n\")\n",
        "\n",
        "print(\"data types in covid_19_clean_complete:\")\n",
        "print(covid_19_clean_complete.dtypes, \"\\n\")\n",
        "\n",
        "print(\"data types in day_wise:\")\n",
        "print(day_wise.dtypes, \"\\n\")\n",
        "\n",
        "print(\"data types in full_grouped:\")\n",
        "print(full_grouped.dtypes, \"\\n\")\n",
        "\n",
        "print(\"data types in usa_county_wise:\")\n",
        "print(usa_county_wise.dtypes, \"\\n\")\n",
        "\n",
        "print(\"data types in worldometer_data:\")\n",
        "print(worldometer_data.dtypes, \"\\n\")"
      ],
      "metadata": {
        "colab": {
          "base_uri": "https://localhost:8080/"
        },
        "id": "1NvFRvlz1Gc7",
        "outputId": "00807933-4866-41b9-ba5b-d6d0df551dbe"
      },
      "execution_count": 5,
      "outputs": [
        {
          "output_type": "stream",
          "name": "stdout",
          "text": [
            "data types in country_wise_latest:\n",
            "Country/Region             object\n",
            "Confirmed                   int64\n",
            "Deaths                      int64\n",
            "Recovered                   int64\n",
            "Active                      int64\n",
            "New cases                   int64\n",
            "New deaths                  int64\n",
            "New recovered               int64\n",
            "Deaths / 100 Cases        float64\n",
            "Recovered / 100 Cases     float64\n",
            "Deaths / 100 Recovered    float64\n",
            "Confirmed last week         int64\n",
            "1 week change               int64\n",
            "1 week % increase         float64\n",
            "WHO Region                 object\n",
            "dtype: object \n",
            "\n",
            "data types in covid_19_clean_complete:\n",
            "Province/State     object\n",
            "Country/Region     object\n",
            "Lat               float64\n",
            "Long              float64\n",
            "Date               object\n",
            "Confirmed         float64\n",
            "Deaths            float64\n",
            "Recovered         float64\n",
            "Active            float64\n",
            "WHO Region         object\n",
            "dtype: object \n",
            "\n",
            "data types in day_wise:\n",
            "Date                       object\n",
            "Confirmed                   int64\n",
            "Deaths                      int64\n",
            "Recovered                   int64\n",
            "Active                      int64\n",
            "New cases                   int64\n",
            "New deaths                  int64\n",
            "New recovered               int64\n",
            "Deaths / 100 Cases        float64\n",
            "Recovered / 100 Cases     float64\n",
            "Deaths / 100 Recovered    float64\n",
            "No. of countries            int64\n",
            "dtype: object \n",
            "\n",
            "data types in full_grouped:\n",
            "Date              object\n",
            "Country/Region    object\n",
            "Confirmed          int64\n",
            "Deaths             int64\n",
            "Recovered          int64\n",
            "Active             int64\n",
            "New cases          int64\n",
            "New deaths         int64\n",
            "New recovered      int64\n",
            "WHO Region        object\n",
            "dtype: object \n",
            "\n",
            "data types in usa_county_wise:\n",
            "UID                 int64\n",
            "iso2               object\n",
            "iso3               object\n",
            "code3               int64\n",
            "FIPS              float64\n",
            "Admin2             object\n",
            "Province_State     object\n",
            "Country_Region     object\n",
            "Lat               float64\n",
            "Long_             float64\n",
            "Combined_Key       object\n",
            "Date               object\n",
            "Confirmed           int64\n",
            "Deaths              int64\n",
            "dtype: object \n",
            "\n",
            "data types in worldometer_data:\n",
            "Country/Region             object\n",
            "Continent                  object\n",
            "Population                float64\n",
            "TotalCases                  int64\n",
            "NewCases                  float64\n",
            "TotalDeaths               float64\n",
            "NewDeaths                 float64\n",
            "TotalRecovered            float64\n",
            "NewRecovered              float64\n",
            "ActiveCases               float64\n",
            "Serious,Critical          float64\n",
            "Tot Cases/1M pop          float64\n",
            "Deaths/1M pop             float64\n",
            "TotalTests                float64\n",
            "Tests/1M pop              float64\n",
            "WHO Region                 object\n",
            "Country/Region_encoded      int64\n",
            "WHO Region_encoded          int64\n",
            "dtype: object \n",
            "\n"
          ]
        }
      ]
    },
    {
      "cell_type": "markdown",
      "source": [
        "\n",
        "\n",
        "---\n",
        "\n"
      ],
      "metadata": {
        "id": "XAZzn7Wg9-A1"
      }
    },
    {
      "cell_type": "markdown",
      "source": [
        "# Converting Date Columns to Datetime"
      ],
      "metadata": {
        "id": "xcTGGEHF9Riw"
      }
    },
    {
      "cell_type": "code",
      "source": [
        "covid_19_clean_complete['Date'] = pd.to_datetime(covid_19_clean_complete['Date'])\n",
        "usa_county_wise['Date'] = pd.to_datetime(usa_county_wise['Date'])"
      ],
      "metadata": {
        "colab": {
          "base_uri": "https://localhost:8080/"
        },
        "id": "gKmQE7cV9TAi",
        "outputId": "5de17e19-f853-43a2-9a59-789aadaec060"
      },
      "execution_count": 6,
      "outputs": [
        {
          "output_type": "stream",
          "name": "stderr",
          "text": [
            "<ipython-input-6-b95ce9457a6d>:2: UserWarning: Could not infer format, so each element will be parsed individually, falling back to `dateutil`. To ensure parsing is consistent and as-expected, please specify a format.\n",
            "  usa_county_wise['Date'] = pd.to_datetime(usa_county_wise['Date'])\n"
          ]
        }
      ]
    },
    {
      "cell_type": "markdown",
      "source": [
        "# Categorical Data Encoding"
      ],
      "metadata": {
        "id": "FqZtZFDS-iZw"
      }
    },
    {
      "cell_type": "code",
      "source": [
        "label_encoder = LabelEncoder()\n",
        "covid_19_clean_complete['Country/Region_encoded'] = label_encoder.fit_transform(covid_19_clean_complete['Country/Region'])\n",
        "covid_19_clean_complete['WHO Region_encoded'] = label_encoder.fit_transform(covid_19_clean_complete['WHO Region'])"
      ],
      "metadata": {
        "id": "3DdSMNAR-fkh"
      },
      "execution_count": 7,
      "outputs": []
    },
    {
      "cell_type": "markdown",
      "source": [
        "# Visualizing Outliers Using Boxplots"
      ],
      "metadata": {
        "id": "0aFVEv7W-9rT"
      }
    },
    {
      "cell_type": "code",
      "source": [
        "plt.figure(figsize=(10, 6))\n",
        "sns.boxplot(data=covid_19_clean_complete[['Confirmed', 'Deaths', 'Recovered', 'Active']])\n",
        "plt.title('Boxplot for Confirmed, Deaths, Recovered, and Active')\n",
        "plt.show()"
      ],
      "metadata": {
        "colab": {
          "base_uri": "https://localhost:8080/",
          "height": 545
        },
        "id": "tMVBldp7-0t4",
        "outputId": "35088c9c-5636-4697-bb14-f6ab71c5cc0c"
      },
      "execution_count": 8,
      "outputs": [
        {
          "output_type": "display_data",
          "data": {
            "text/plain": [
              "<Figure size 1000x600 with 1 Axes>"
            ],
            "image/png": "[encoded data removed]"
          },
          "metadata": {}
        }
      ]
    },
    {
      "cell_type": "markdown",
      "source": [
        "# Statistical Detection of Outliers using IQR"
      ],
      "metadata": {
        "id": "RknIMCL7_kir"
      }
    },
    {
      "cell_type": "code",
      "source": [
        "def identify_outliers(df, column):\n",
        "    Q1 = df[column].quantile(0.25)\n",
        "    Q3 = df[column].quantile(0.75)\n",
        "    IQR = Q3 - Q1\n",
        "    lower_bound = Q1 - 1.5 * IQR\n",
        "    upper_bound = Q3 + 1.5 * IQR\n",
        "    outliers = df[(df[column] < lower_bound) | (df[column] > upper_bound)]\n",
        "    return outliers\n",
        "\n",
        "outliers_confirmed = identify_outliers(covid_19_clean_complete, 'Confirmed')\n",
        "outliers_deaths = identify_outliers(covid_19_clean_complete, 'Deaths')\n",
        "outliers_recovered = identify_outliers(covid_19_clean_complete, 'Recovered')\n",
        "outliers_active = identify_outliers(covid_19_clean_complete, 'Active')\n",
        "\n",
        "print(f\"outliers in Confirmed Cases: {outliers_confirmed.shape[0]}\")\n",
        "print(f\"outliers in Deaths: {outliers_deaths.shape[0]}\")\n",
        "print(f\"outliers in Recovered Cases: {outliers_recovered.shape[0]}\")\n",
        "print(f\"outliers in Active Cases: {outliers_active.shape[0]}\")"
      ],
      "metadata": {
        "colab": {
          "base_uri": "https://localhost:8080/"
        },
        "id": "hQfqvryV_kx1",
        "outputId": "48bea44f-949e-47d8-c746-c214edfd7a50"
      },
      "execution_count": 9,
      "outputs": [
        {
          "output_type": "stream",
          "name": "stdout",
          "text": [
            "outliers in Confirmed Cases: 8817\n",
            "outliers in Deaths: 9077\n",
            "outliers in Recovered Cases: 7936\n",
            "outliers in Active Cases: 8914\n"
          ]
        }
      ]
    },
    {
      "cell_type": "markdown",
      "source": [
        "# Handling Outliers"
      ],
      "metadata": {
        "id": "RSuPLE1q_pwy"
      }
    },
    {
      "cell_type": "code",
      "source": [
        "def replace_outliers(df, column):\n",
        "    Q1 = df[column].quantile(0.25)\n",
        "    Q3 = df[column].quantile(0.75)\n",
        "    IQR = Q3 - Q1\n",
        "    lower_bound = Q1 - 1.5 * IQR\n",
        "    upper_bound = Q3 + 1.5 * IQR\n",
        "    df[column] = df[column].apply(lambda x: df[column].median() if x < lower_bound or x > upper_bound else x)\n",
        "    return df\n",
        "\n",
        "covid_19_clean_complete = replace_outliers(covid_19_clean_complete, 'Confirmed')\n",
        "covid_19_clean_complete = replace_outliers(covid_19_clean_complete, 'Deaths')\n",
        "covid_19_clean_complete = replace_outliers(covid_19_clean_complete, 'Recovered')\n",
        "covid_19_clean_complete = replace_outliers(covid_19_clean_complete, 'Active')"
      ],
      "metadata": {
        "id": "yOulmiem_qGY"
      },
      "execution_count": 15,
      "outputs": []
    },
    {
      "cell_type": "code",
      "source": [
        "plt.figure(figsize=(10, 6))\n",
        "sns.boxplot(data=covid_19_clean_complete[['Confirmed', 'Deaths', 'Recovered', 'Active']])\n",
        "plt.title('boxplot for Confirmed, Deaths, Recovered, and Active after Handling Outliers')\n",
        "plt.show()"
      ],
      "metadata": {
        "colab": {
          "base_uri": "https://localhost:8080/",
          "height": 545
        },
        "id": "z5fEeLyrAxtt",
        "outputId": "892f2f73-9dda-40a1-bec6-89d3f869a5b8"
      },
      "execution_count": 16,
      "outputs": [
        {
          "output_type": "display_data",
          "data": {
            "text/plain": [
              "<Figure size 1000x600 with 1 Axes>"
            ],
            "image/png": "[encoded data removed]"
          },
          "metadata": {}
        }
      ]
    },
    {
      "cell_type": "markdown",
      "source": [
        "\n",
        "\n",
        "---\n",
        "\n"
      ],
      "metadata": {
        "id": "9l27N8h3-jMz"
      }
    },
    {
      "cell_type": "markdown",
      "source": [
        "# Saving datasets after handling"
      ],
      "metadata": {
        "id": "I5DZve4lCCp3"
      }
    },
    {
      "cell_type": "code",
      "source": [
        "covid_19_clean_complete.to_csv('cleaned_covid_19_clean_complete.csv', index=False)\n",
        "\n",
        "usa_county_wise.to_csv('cleaned_usa_county_wise.csv', index=False)\n",
        "\n",
        "worldometer_data.to_csv('cleaned_worldometer_data.csv', index=False)\n",
        "\n",
        "country_wise_latest.to_csv('cleaned_country_wise_latest.csv', index=False)\n",
        "\n",
        "print(\"Affected datasets have been saved as CSV files.\")"
      ],
      "metadata": {
        "colab": {
          "base_uri": "https://localhost:8080/"
        },
        "id": "0VMI5k1C-wP7",
        "outputId": "779ad48a-31e4-45c4-e2a3-c9f9e169a5f1"
      },
      "execution_count": 18,
      "outputs": [
        {
          "output_type": "stream",
          "name": "stdout",
          "text": [
            "Affected datasets have been saved as CSV files.\n"
          ]
        }
      ]
    },
    {
      "cell_type": "markdown",
      "source": [
        "\n",
        "\n",
        "---\n",
        "\n"
      ],
      "metadata": {
        "id": "kw5LNsQ1_KNm"
      }
    },
    {
      "cell_type": "markdown",
      "source": [
        "# **Visualization**"
      ],
      "metadata": {
        "id": "hojbNtaX_Nmf"
      }
    },
    {
      "cell_type": "markdown",
      "source": [
        "# visualizations to uncover patterns and trends:"
      ],
      "metadata": {
        "id": "hWcRczG_98G-"
      }
    },
    {
      "cell_type": "code",
      "source": [
        "# Confirmed cases over time for a india\n",
        "plt.figure(figsize=(10, 6))\n",
        "sns.lineplot(x='Date', y='Confirmed', data=covid_19_clean_complete[covid_19_clean_complete['Country/Region'] == 'India'])\n",
        "plt.title('Confirmed Cases Over Time - India')\n",
        "plt.show()"
      ],
      "metadata": {
        "colab": {
          "base_uri": "https://localhost:8080/",
          "height": 564
        },
        "id": "NddTdCGP-IK2",
        "outputId": "881f2426-8b46-4e5c-e3e5-859712a9dee6"
      },
      "execution_count": 11,
      "outputs": [
        {
          "output_type": "display_data",
          "data": {
            "text/plain": [
              "<Figure size 1000x600 with 1 Axes>"
            ],
            "image/png": "[encoded data removed]"
          },
          "metadata": {}
        }
      ]
    },
    {
      "cell_type": "code",
      "source": [
        "plt.figure(figsize=(10, 6))\n",
        "sns.heatmap(covid_19_clean_complete[['Confirmed', 'Deaths', 'Recovered', 'Active']].corr(), annot=True, cmap='coolwarm')\n",
        "plt.title('Correlation Matrix')\n",
        "plt.show()"
      ],
      "metadata": {
        "colab": {
          "base_uri": "https://localhost:8080/",
          "height": 545
        },
        "id": "uiqefsW7-Oi7",
        "outputId": "8254e36e-adfc-49a3-924b-88a3d512f76a"
      },
      "execution_count": 12,
      "outputs": [
        {
          "output_type": "display_data",
          "data": {
            "text/plain": [
              "<Figure size 1000x600 with 2 Axes>"
            ],
            "image/png": "[encoded data removed]"
          },
          "metadata": {}
        }
      ]
    },
    {
      "cell_type": "markdown",
      "source": [
        "\n",
        "\n",
        "---\n",
        "\n"
      ],
      "metadata": {
        "id": "L3_zAZHc_UZs"
      }
    }
  ]
}